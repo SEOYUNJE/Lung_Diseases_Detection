{
 "cells": [
  {
   "cell_type": "code",
   "execution_count": 1,
   "id": "57f39567",
   "metadata": {
    "execution": {
     "iopub.execute_input": "2024-08-15T01:41:07.763996Z",
     "iopub.status.busy": "2024-08-15T01:41:07.763576Z",
     "iopub.status.idle": "2024-08-15T01:41:10.587524Z",
     "shell.execute_reply": "2024-08-15T01:41:10.586431Z"
    },
    "papermill": {
     "duration": 2.833771,
     "end_time": "2024-08-15T01:41:10.590712",
     "exception": false,
     "start_time": "2024-08-15T01:41:07.756941",
     "status": "completed"
    },
    "tags": []
   },
   "outputs": [],
   "source": [
    "import os\n",
    "import pandas as pd, numpy as np\n",
    "from glob import glob\n",
    "from tqdm import tqdm\n",
    "\n",
    "import matplotlib.pyplot as plt\n",
    "import seaborn as sns \n",
    "\n",
    "from PIL import Image\n",
    "import cv2\n",
    "\n",
    "import warnings\n",
    "warnings.filterwarnings('ignore')"
   ]
  },
  {
   "cell_type": "code",
   "execution_count": 2,
   "id": "863ee722",
   "metadata": {
    "execution": {
     "iopub.execute_input": "2024-08-15T01:41:10.602769Z",
     "iopub.status.busy": "2024-08-15T01:41:10.602164Z",
     "iopub.status.idle": "2024-08-15T01:41:10.669838Z",
     "shell.execute_reply": "2024-08-15T01:41:10.668656Z"
    },
    "papermill": {
     "duration": 0.076485,
     "end_time": "2024-08-15T01:41:10.672496",
     "exception": false,
     "start_time": "2024-08-15T01:41:10.596011",
     "status": "completed"
    },
    "tags": []
   },
   "outputs": [
    {
     "data": {
      "text/html": [
       "<div>\n",
       "<style scoped>\n",
       "    .dataframe tbody tr th:only-of-type {\n",
       "        vertical-align: middle;\n",
       "    }\n",
       "\n",
       "    .dataframe tbody tr th {\n",
       "        vertical-align: top;\n",
       "    }\n",
       "\n",
       "    .dataframe thead th {\n",
       "        text-align: right;\n",
       "    }\n",
       "</style>\n",
       "<table border=\"1\" class=\"dataframe\">\n",
       "  <thead>\n",
       "    <tr style=\"text-align: right;\">\n",
       "      <th></th>\n",
       "      <th>Image Index</th>\n",
       "      <th>Finding Label</th>\n",
       "      <th>x</th>\n",
       "      <th>y</th>\n",
       "      <th>w</th>\n",
       "      <th>h</th>\n",
       "    </tr>\n",
       "  </thead>\n",
       "  <tbody>\n",
       "    <tr>\n",
       "      <th>0</th>\n",
       "      <td>00013118_008.png</td>\n",
       "      <td>Atelectasis</td>\n",
       "      <td>225.084746</td>\n",
       "      <td>547.019217</td>\n",
       "      <td>86.779661</td>\n",
       "      <td>79.186441</td>\n",
       "    </tr>\n",
       "    <tr>\n",
       "      <th>1</th>\n",
       "      <td>00014716_007.png</td>\n",
       "      <td>Atelectasis</td>\n",
       "      <td>686.101695</td>\n",
       "      <td>131.543498</td>\n",
       "      <td>185.491525</td>\n",
       "      <td>313.491525</td>\n",
       "    </tr>\n",
       "    <tr>\n",
       "      <th>2</th>\n",
       "      <td>00029817_009.png</td>\n",
       "      <td>Atelectasis</td>\n",
       "      <td>221.830508</td>\n",
       "      <td>317.053115</td>\n",
       "      <td>155.118644</td>\n",
       "      <td>216.949153</td>\n",
       "    </tr>\n",
       "    <tr>\n",
       "      <th>3</th>\n",
       "      <td>00014687_001.png</td>\n",
       "      <td>Atelectasis</td>\n",
       "      <td>726.237288</td>\n",
       "      <td>494.951420</td>\n",
       "      <td>141.016949</td>\n",
       "      <td>55.322034</td>\n",
       "    </tr>\n",
       "    <tr>\n",
       "      <th>4</th>\n",
       "      <td>00017877_001.png</td>\n",
       "      <td>Atelectasis</td>\n",
       "      <td>660.067797</td>\n",
       "      <td>569.780787</td>\n",
       "      <td>200.677966</td>\n",
       "      <td>78.101695</td>\n",
       "    </tr>\n",
       "    <tr>\n",
       "      <th>...</th>\n",
       "      <td>...</td>\n",
       "      <td>...</td>\n",
       "      <td>...</td>\n",
       "      <td>...</td>\n",
       "      <td>...</td>\n",
       "      <td>...</td>\n",
       "    </tr>\n",
       "    <tr>\n",
       "      <th>979</th>\n",
       "      <td>00029464_015.png</td>\n",
       "      <td>Atelectasis</td>\n",
       "      <td>198.940451</td>\n",
       "      <td>352.900747</td>\n",
       "      <td>615.537778</td>\n",
       "      <td>323.128889</td>\n",
       "    </tr>\n",
       "    <tr>\n",
       "      <th>980</th>\n",
       "      <td>00025769_001.png</td>\n",
       "      <td>Atelectasis</td>\n",
       "      <td>701.838229</td>\n",
       "      <td>572.491858</td>\n",
       "      <td>103.537778</td>\n",
       "      <td>63.715556</td>\n",
       "    </tr>\n",
       "    <tr>\n",
       "      <th>981</th>\n",
       "      <td>00016837_002.png</td>\n",
       "      <td>Atelectasis</td>\n",
       "      <td>140.913785</td>\n",
       "      <td>658.962969</td>\n",
       "      <td>271.928889</td>\n",
       "      <td>94.435556</td>\n",
       "    </tr>\n",
       "    <tr>\n",
       "      <th>982</th>\n",
       "      <td>00020124_003.png</td>\n",
       "      <td>Atelectasis</td>\n",
       "      <td>175.047118</td>\n",
       "      <td>580.456302</td>\n",
       "      <td>244.622222</td>\n",
       "      <td>103.537778</td>\n",
       "    </tr>\n",
       "    <tr>\n",
       "      <th>983</th>\n",
       "      <td>00026920_000.png</td>\n",
       "      <td>Atelectasis</td>\n",
       "      <td>343.438229</td>\n",
       "      <td>446.198524</td>\n",
       "      <td>120.604444</td>\n",
       "      <td>53.475556</td>\n",
       "    </tr>\n",
       "  </tbody>\n",
       "</table>\n",
       "<p>984 rows × 6 columns</p>\n",
       "</div>"
      ],
      "text/plain": [
       "          Image Index Finding Label           x           y           w  \\\n",
       "0    00013118_008.png   Atelectasis  225.084746  547.019217   86.779661   \n",
       "1    00014716_007.png   Atelectasis  686.101695  131.543498  185.491525   \n",
       "2    00029817_009.png   Atelectasis  221.830508  317.053115  155.118644   \n",
       "3    00014687_001.png   Atelectasis  726.237288  494.951420  141.016949   \n",
       "4    00017877_001.png   Atelectasis  660.067797  569.780787  200.677966   \n",
       "..                ...           ...         ...         ...         ...   \n",
       "979  00029464_015.png   Atelectasis  198.940451  352.900747  615.537778   \n",
       "980  00025769_001.png   Atelectasis  701.838229  572.491858  103.537778   \n",
       "981  00016837_002.png   Atelectasis  140.913785  658.962969  271.928889   \n",
       "982  00020124_003.png   Atelectasis  175.047118  580.456302  244.622222   \n",
       "983  00026920_000.png   Atelectasis  343.438229  446.198524  120.604444   \n",
       "\n",
       "              h  \n",
       "0     79.186441  \n",
       "1    313.491525  \n",
       "2    216.949153  \n",
       "3     55.322034  \n",
       "4     78.101695  \n",
       "..          ...  \n",
       "979  323.128889  \n",
       "980   63.715556  \n",
       "981   94.435556  \n",
       "982  103.537778  \n",
       "983   53.475556  \n",
       "\n",
       "[984 rows x 6 columns]"
      ]
     },
     "execution_count": 2,
     "metadata": {},
     "output_type": "execute_result"
    }
   ],
   "source": [
    "df_bbox = pd.read_csv('/kaggle/input/data/BBox_List_2017.csv')\n",
    "df_bbox = df_bbox.drop(columns=df_bbox.columns[-3:].tolist())\n",
    "df_bbox.rename(columns={'Bbox [x': 'x', 'h]': 'h'}, inplace=True)\n",
    "df_bbox"
   ]
  },
  {
   "cell_type": "markdown",
   "id": "620ab7be",
   "metadata": {
    "papermill": {
     "duration": 0.00465,
     "end_time": "2024-08-15T01:41:10.682082",
     "exception": false,
     "start_time": "2024-08-15T01:41:10.677432",
     "status": "completed"
    },
    "tags": []
   },
   "source": [
    "**Width: 1024**\n",
    "\n",
    "**Height: 1024**"
   ]
  },
  {
   "cell_type": "code",
   "execution_count": 3,
   "id": "4fec5f04",
   "metadata": {
    "execution": {
     "iopub.execute_input": "2024-08-15T01:41:10.693649Z",
     "iopub.status.busy": "2024-08-15T01:41:10.693271Z",
     "iopub.status.idle": "2024-08-15T01:41:10.700345Z",
     "shell.execute_reply": "2024-08-15T01:41:10.699207Z"
    },
    "papermill": {
     "duration": 0.016018,
     "end_time": "2024-08-15T01:41:10.703023",
     "exception": false,
     "start_time": "2024-08-15T01:41:10.687005",
     "status": "completed"
    },
    "tags": []
   },
   "outputs": [],
   "source": [
    "df_bbox['height'] = 1024\n",
    "df_bbox['width'] = 1024"
   ]
  },
  {
   "cell_type": "code",
   "execution_count": 4,
   "id": "fde1afdb",
   "metadata": {
    "execution": {
     "iopub.execute_input": "2024-08-15T01:41:10.714578Z",
     "iopub.status.busy": "2024-08-15T01:41:10.714185Z",
     "iopub.status.idle": "2024-08-15T01:41:10.725451Z",
     "shell.execute_reply": "2024-08-15T01:41:10.724287Z"
    },
    "papermill": {
     "duration": 0.0199,
     "end_time": "2024-08-15T01:41:10.727859",
     "exception": false,
     "start_time": "2024-08-15T01:41:10.707959",
     "status": "completed"
    },
    "tags": []
   },
   "outputs": [],
   "source": [
    "df_bbox = df_bbox[df_bbox['Finding Label'].isin(['Pneumonia','Cardiomegaly','Effusion','Atelectasis'])]"
   ]
  },
  {
   "cell_type": "code",
   "execution_count": 5,
   "id": "a8b45b62",
   "metadata": {
    "execution": {
     "iopub.execute_input": "2024-08-15T01:41:10.739534Z",
     "iopub.status.busy": "2024-08-15T01:41:10.739148Z",
     "iopub.status.idle": "2024-08-15T01:41:11.125438Z",
     "shell.execute_reply": "2024-08-15T01:41:11.124010Z"
    },
    "papermill": {
     "duration": 0.395224,
     "end_time": "2024-08-15T01:41:11.128119",
     "exception": false,
     "start_time": "2024-08-15T01:41:10.732895",
     "status": "completed"
    },
    "tags": []
   },
   "outputs": [
    {
     "data": {
      "image/png": "[encoded data removed]",
      "text/plain": [
       "<Figure size 1200x600 with 1 Axes>"
      ]
     },
     "metadata": {},
     "output_type": "display_data"
    }
   ],
   "source": [
    "plt.figure(figsize=(12,6))\n",
    "\n",
    "sns.countplot(x=df_bbox['Finding Label'])\n",
    "\n",
    "plt.show()"
   ]
  },
  {
   "cell_type": "code",
   "execution_count": 6,
   "id": "871b6995",
   "metadata": {
    "execution": {
     "iopub.execute_input": "2024-08-15T01:41:11.140857Z",
     "iopub.status.busy": "2024-08-15T01:41:11.140429Z",
     "iopub.status.idle": "2024-08-15T01:41:15.495393Z",
     "shell.execute_reply": "2024-08-15T01:41:15.494332Z"
    },
    "papermill": {
     "duration": 4.364787,
     "end_time": "2024-08-15T01:41:15.498261",
     "exception": false,
     "start_time": "2024-08-15T01:41:11.133474",
     "status": "completed"
    },
    "tags": []
   },
   "outputs": [],
   "source": [
    "mapping_path = {os.path.basename(x): x for x in glob('../input/data/*/images/*.png')}\n",
    "\n",
    "df_bbox['path'] = df_bbox['Image Index'].map(mapping_path)"
   ]
  },
  {
   "cell_type": "code",
   "execution_count": 7,
   "id": "515aaeb5",
   "metadata": {
    "execution": {
     "iopub.execute_input": "2024-08-15T01:41:15.511394Z",
     "iopub.status.busy": "2024-08-15T01:41:15.511000Z",
     "iopub.status.idle": "2024-08-15T01:41:15.528493Z",
     "shell.execute_reply": "2024-08-15T01:41:15.527388Z"
    },
    "papermill": {
     "duration": 0.027063,
     "end_time": "2024-08-15T01:41:15.531314",
     "exception": false,
     "start_time": "2024-08-15T01:41:15.504251",
     "status": "completed"
    },
    "tags": []
   },
   "outputs": [],
   "source": [
    "df_bbox.to_csv('metadata.csv', index=False)"
   ]
  },
  {
   "cell_type": "code",
   "execution_count": 8,
   "id": "b746e3f4",
   "metadata": {
    "execution": {
     "iopub.execute_input": "2024-08-15T01:41:15.543734Z",
     "iopub.status.busy": "2024-08-15T01:41:15.543339Z",
     "iopub.status.idle": "2024-08-15T01:41:15.548442Z",
     "shell.execute_reply": "2024-08-15T01:41:15.547291Z"
    },
    "papermill": {
     "duration": 0.014135,
     "end_time": "2024-08-15T01:41:15.550868",
     "exception": false,
     "start_time": "2024-08-15T01:41:15.536733",
     "status": "completed"
    },
    "tags": []
   },
   "outputs": [],
   "source": [
    "import shutil"
   ]
  },
  {
   "cell_type": "code",
   "execution_count": 9,
   "id": "0fbc2efc",
   "metadata": {
    "execution": {
     "iopub.execute_input": "2024-08-15T01:41:15.563508Z",
     "iopub.status.busy": "2024-08-15T01:41:15.563109Z",
     "iopub.status.idle": "2024-08-15T01:41:24.449051Z",
     "shell.execute_reply": "2024-08-15T01:41:24.447907Z"
    },
    "papermill": {
     "duration": 8.895757,
     "end_time": "2024-08-15T01:41:24.452112",
     "exception": false,
     "start_time": "2024-08-15T01:41:15.556355",
     "status": "completed"
    },
    "tags": []
   },
   "outputs": [
    {
     "name": "stderr",
     "output_type": "stream",
     "text": [
      "100%|██████████| 180/180 [00:02<00:00, 64.45it/s]\n",
      "100%|██████████| 146/146 [00:02<00:00, 63.37it/s]\n",
      "100%|██████████| 153/153 [00:02<00:00, 75.09it/s]\n",
      "100%|██████████| 120/120 [00:01<00:00, 70.07it/s]\n"
     ]
    }
   ],
   "source": [
    "PATH = '/kaggle/working/nih_label/'\n",
    "\n",
    "for label in df_bbox['Finding Label'].unique():\n",
    "    os.makedirs(os.path.join(PATH,label), exist_ok=True)\n",
    "    \n",
    "    tmp = df_bbox[df_bbox['Finding Label'] == label].reset_index(drop=True)\n",
    "    \n",
    "    for file in tqdm(tmp['path'].unique()):\n",
    "        shutil.copy(file, os.path.join(PATH,label))"
   ]
  },
  {
   "cell_type": "code",
   "execution_count": null,
   "id": "32aaba2b",
   "metadata": {
    "papermill": {
     "duration": 0.013402,
     "end_time": "2024-08-15T01:41:24.479605",
     "exception": false,
     "start_time": "2024-08-15T01:41:24.466203",
     "status": "completed"
    },
    "tags": []
   },
   "outputs": [],
   "source": []
  }
 ],
 "metadata": {
  "kaggle": {
   "accelerator": "none",
   "dataSources": [
    {
     "datasetId": 5839,
     "sourceId": 18613,
     "sourceType": "datasetVersion"
    }
   ],
   "dockerImageVersionId": 30746,
   "isGpuEnabled": false,
   "isInternetEnabled": true,
   "language": "python",
   "sourceType": "notebook"
  },
  "kernelspec": {
   "display_name": "Python 3",
   "language": "python",
   "name": "python3"
  },
  "language_info": {
   "codemirror_mode": {
    "name": "ipython",
    "version": 3
   },
   "file_extension": ".py",
   "mimetype": "text/x-python",
   "name": "python",
   "nbconvert_exporter": "python",
   "pygments_lexer": "ipython3",
   "version": "3.10.13"
  },
  "papermill": {
   "default_parameters": {},
   "duration": 20.501197,
   "end_time": "2024-08-15T01:41:25.115316",
   "environment_variables": {},
   "exception": null,
   "input_path": "__notebook__.ipynb",
   "output_path": "__notebook__.ipynb",
   "parameters": {},
   "start_time": "2024-08-15T01:41:04.614119",
   "version": "2.5.0"
  }
 },
 "nbformat": 4,
 "nbformat_minor": 5
}
