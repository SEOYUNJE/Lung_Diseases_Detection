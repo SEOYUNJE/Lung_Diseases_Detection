{
 "cells": [
  {
   "cell_type": "code",
   "execution_count": 1,
   "id": "2e6a5417",
   "metadata": {
    "execution": {
     "iopub.execute_input": "2024-08-15T09:23:04.915225Z",
     "iopub.status.busy": "2024-08-15T09:23:04.914778Z",
     "iopub.status.idle": "2024-08-15T09:23:07.690659Z",
     "shell.execute_reply": "2024-08-15T09:23:07.689517Z"
    },
    "papermill": {
     "duration": 2.788913,
     "end_time": "2024-08-15T09:23:07.693546",
     "exception": false,
     "start_time": "2024-08-15T09:23:04.904633",
     "status": "completed"
    },
    "tags": []
   },
   "outputs": [],
   "source": [
    "import os\n",
    "import pandas as pd, numpy as np\n",
    "from glob import glob\n",
    "from tqdm import tqdm\n",
    "\n",
    "import matplotlib.pyplot as plt\n",
    "import seaborn as sns \n",
    "\n",
    "from PIL import Image\n",
    "import cv2\n",
    "\n",
    "import warnings\n",
    "warnings.filterwarnings('ignore')"
   ]
  },
  {
   "cell_type": "markdown",
   "id": "fb2a7620",
   "metadata": {
    "papermill": {
     "duration": 0.007398,
     "end_time": "2024-08-15T09:23:07.708781",
     "exception": false,
     "start_time": "2024-08-15T09:23:07.701383",
     "status": "completed"
    },
    "tags": []
   },
   "source": [
    "### NIH Data"
   ]
  },
  {
   "cell_type": "code",
   "execution_count": 2,
   "id": "a5d8159d",
   "metadata": {
    "execution": {
     "iopub.execute_input": "2024-08-15T09:23:07.726665Z",
     "iopub.status.busy": "2024-08-15T09:23:07.726075Z",
     "iopub.status.idle": "2024-08-15T09:23:07.791851Z",
     "shell.execute_reply": "2024-08-15T09:23:07.790628Z"
    },
    "papermill": {
     "duration": 0.077557,
     "end_time": "2024-08-15T09:23:07.794407",
     "exception": false,
     "start_time": "2024-08-15T09:23:07.716850",
     "status": "completed"
    },
    "tags": []
   },
   "outputs": [
    {
     "data": {
      "text/html": [
       "<div>\n",
       "<style scoped>\n",
       "    .dataframe tbody tr th:only-of-type {\n",
       "        vertical-align: middle;\n",
       "    }\n",
       "\n",
       "    .dataframe tbody tr th {\n",
       "        vertical-align: top;\n",
       "    }\n",
       "\n",
       "    .dataframe thead th {\n",
       "        text-align: right;\n",
       "    }\n",
       "</style>\n",
       "<table border=\"1\" class=\"dataframe\">\n",
       "  <thead>\n",
       "    <tr style=\"text-align: right;\">\n",
       "      <th></th>\n",
       "      <th>Image Index</th>\n",
       "      <th>Finding Label</th>\n",
       "      <th>x</th>\n",
       "      <th>y</th>\n",
       "      <th>w</th>\n",
       "      <th>h</th>\n",
       "    </tr>\n",
       "  </thead>\n",
       "  <tbody>\n",
       "    <tr>\n",
       "      <th>0</th>\n",
       "      <td>00013118_008.png</td>\n",
       "      <td>Atelectasis</td>\n",
       "      <td>225.084746</td>\n",
       "      <td>547.019217</td>\n",
       "      <td>86.779661</td>\n",
       "      <td>79.186441</td>\n",
       "    </tr>\n",
       "    <tr>\n",
       "      <th>1</th>\n",
       "      <td>00014716_007.png</td>\n",
       "      <td>Atelectasis</td>\n",
       "      <td>686.101695</td>\n",
       "      <td>131.543498</td>\n",
       "      <td>185.491525</td>\n",
       "      <td>313.491525</td>\n",
       "    </tr>\n",
       "    <tr>\n",
       "      <th>2</th>\n",
       "      <td>00029817_009.png</td>\n",
       "      <td>Atelectasis</td>\n",
       "      <td>221.830508</td>\n",
       "      <td>317.053115</td>\n",
       "      <td>155.118644</td>\n",
       "      <td>216.949153</td>\n",
       "    </tr>\n",
       "    <tr>\n",
       "      <th>3</th>\n",
       "      <td>00014687_001.png</td>\n",
       "      <td>Atelectasis</td>\n",
       "      <td>726.237288</td>\n",
       "      <td>494.951420</td>\n",
       "      <td>141.016949</td>\n",
       "      <td>55.322034</td>\n",
       "    </tr>\n",
       "    <tr>\n",
       "      <th>4</th>\n",
       "      <td>00017877_001.png</td>\n",
       "      <td>Atelectasis</td>\n",
       "      <td>660.067797</td>\n",
       "      <td>569.780787</td>\n",
       "      <td>200.677966</td>\n",
       "      <td>78.101695</td>\n",
       "    </tr>\n",
       "    <tr>\n",
       "      <th>...</th>\n",
       "      <td>...</td>\n",
       "      <td>...</td>\n",
       "      <td>...</td>\n",
       "      <td>...</td>\n",
       "      <td>...</td>\n",
       "      <td>...</td>\n",
       "    </tr>\n",
       "    <tr>\n",
       "      <th>979</th>\n",
       "      <td>00029464_015.png</td>\n",
       "      <td>Atelectasis</td>\n",
       "      <td>198.940451</td>\n",
       "      <td>352.900747</td>\n",
       "      <td>615.537778</td>\n",
       "      <td>323.128889</td>\n",
       "    </tr>\n",
       "    <tr>\n",
       "      <th>980</th>\n",
       "      <td>00025769_001.png</td>\n",
       "      <td>Atelectasis</td>\n",
       "      <td>701.838229</td>\n",
       "      <td>572.491858</td>\n",
       "      <td>103.537778</td>\n",
       "      <td>63.715556</td>\n",
       "    </tr>\n",
       "    <tr>\n",
       "      <th>981</th>\n",
       "      <td>00016837_002.png</td>\n",
       "      <td>Atelectasis</td>\n",
       "      <td>140.913785</td>\n",
       "      <td>658.962969</td>\n",
       "      <td>271.928889</td>\n",
       "      <td>94.435556</td>\n",
       "    </tr>\n",
       "    <tr>\n",
       "      <th>982</th>\n",
       "      <td>00020124_003.png</td>\n",
       "      <td>Atelectasis</td>\n",
       "      <td>175.047118</td>\n",
       "      <td>580.456302</td>\n",
       "      <td>244.622222</td>\n",
       "      <td>103.537778</td>\n",
       "    </tr>\n",
       "    <tr>\n",
       "      <th>983</th>\n",
       "      <td>00026920_000.png</td>\n",
       "      <td>Atelectasis</td>\n",
       "      <td>343.438229</td>\n",
       "      <td>446.198524</td>\n",
       "      <td>120.604444</td>\n",
       "      <td>53.475556</td>\n",
       "    </tr>\n",
       "  </tbody>\n",
       "</table>\n",
       "<p>984 rows × 6 columns</p>\n",
       "</div>"
      ],
      "text/plain": [
       "          Image Index Finding Label           x           y           w  \\\n",
       "0    00013118_008.png   Atelectasis  225.084746  547.019217   86.779661   \n",
       "1    00014716_007.png   Atelectasis  686.101695  131.543498  185.491525   \n",
       "2    00029817_009.png   Atelectasis  221.830508  317.053115  155.118644   \n",
       "3    00014687_001.png   Atelectasis  726.237288  494.951420  141.016949   \n",
       "4    00017877_001.png   Atelectasis  660.067797  569.780787  200.677966   \n",
       "..                ...           ...         ...         ...         ...   \n",
       "979  00029464_015.png   Atelectasis  198.940451  352.900747  615.537778   \n",
       "980  00025769_001.png   Atelectasis  701.838229  572.491858  103.537778   \n",
       "981  00016837_002.png   Atelectasis  140.913785  658.962969  271.928889   \n",
       "982  00020124_003.png   Atelectasis  175.047118  580.456302  244.622222   \n",
       "983  00026920_000.png   Atelectasis  343.438229  446.198524  120.604444   \n",
       "\n",
       "              h  \n",
       "0     79.186441  \n",
       "1    313.491525  \n",
       "2    216.949153  \n",
       "3     55.322034  \n",
       "4     78.101695  \n",
       "..          ...  \n",
       "979  323.128889  \n",
       "980   63.715556  \n",
       "981   94.435556  \n",
       "982  103.537778  \n",
       "983   53.475556  \n",
       "\n",
       "[984 rows x 6 columns]"
      ]
     },
     "execution_count": 2,
     "metadata": {},
     "output_type": "execute_result"
    }
   ],
   "source": [
    "df_bbox = pd.read_csv('/kaggle/input/data/BBox_List_2017.csv')\n",
    "df_bbox = df_bbox.drop(columns=df_bbox.columns[-3:].tolist())\n",
    "df_bbox.rename(columns={'Bbox [x': 'x', 'h]': 'h'}, inplace=True)\n",
    "df_bbox"
   ]
  },
  {
   "cell_type": "code",
   "execution_count": 3,
   "id": "3e303acb",
   "metadata": {
    "execution": {
     "iopub.execute_input": "2024-08-15T09:23:07.811966Z",
     "iopub.status.busy": "2024-08-15T09:23:07.811559Z",
     "iopub.status.idle": "2024-08-15T09:23:07.818553Z",
     "shell.execute_reply": "2024-08-15T09:23:07.817266Z"
    },
    "papermill": {
     "duration": 0.018688,
     "end_time": "2024-08-15T09:23:07.821118",
     "exception": false,
     "start_time": "2024-08-15T09:23:07.802430",
     "status": "completed"
    },
    "tags": []
   },
   "outputs": [],
   "source": [
    "df_bbox['height'] = 1024\n",
    "df_bbox['width'] = 1024"
   ]
  },
  {
   "cell_type": "code",
   "execution_count": 4,
   "id": "5cc5688f",
   "metadata": {
    "execution": {
     "iopub.execute_input": "2024-08-15T09:23:07.838848Z",
     "iopub.status.busy": "2024-08-15T09:23:07.838456Z",
     "iopub.status.idle": "2024-08-15T09:23:07.850502Z",
     "shell.execute_reply": "2024-08-15T09:23:07.849289Z"
    },
    "papermill": {
     "duration": 0.024009,
     "end_time": "2024-08-15T09:23:07.853077",
     "exception": false,
     "start_time": "2024-08-15T09:23:07.829068",
     "status": "completed"
    },
    "tags": []
   },
   "outputs": [],
   "source": [
    "df_bbox = df_bbox[df_bbox['Finding Label'].isin(['Cardiomegaly','Effusion','Atelectasis'])]"
   ]
  },
  {
   "cell_type": "code",
   "execution_count": 5,
   "id": "e37373f5",
   "metadata": {
    "execution": {
     "iopub.execute_input": "2024-08-15T09:23:07.870897Z",
     "iopub.status.busy": "2024-08-15T09:23:07.870508Z",
     "iopub.status.idle": "2024-08-15T09:23:08.246774Z",
     "shell.execute_reply": "2024-08-15T09:23:08.245479Z"
    },
    "papermill": {
     "duration": 0.388317,
     "end_time": "2024-08-15T09:23:08.249502",
     "exception": false,
     "start_time": "2024-08-15T09:23:07.861185",
     "status": "completed"
    },
    "tags": []
   },
   "outputs": [
    {
     "data": {
      "image/png": "[encoded data removed]",
      "text/plain": [
       "<Figure size 1200x600 with 1 Axes>"
      ]
     },
     "metadata": {},
     "output_type": "display_data"
    }
   ],
   "source": [
    "plt.figure(figsize=(12,6))\n",
    "\n",
    "sns.countplot(x=df_bbox['Finding Label'])\n",
    "\n",
    "plt.show()"
   ]
  },
  {
   "cell_type": "code",
   "execution_count": 6,
   "id": "97f9e188",
   "metadata": {
    "execution": {
     "iopub.execute_input": "2024-08-15T09:23:08.268003Z",
     "iopub.status.busy": "2024-08-15T09:23:08.267561Z",
     "iopub.status.idle": "2024-08-15T09:23:11.969715Z",
     "shell.execute_reply": "2024-08-15T09:23:11.968286Z"
    },
    "papermill": {
     "duration": 3.714922,
     "end_time": "2024-08-15T09:23:11.972869",
     "exception": false,
     "start_time": "2024-08-15T09:23:08.257947",
     "status": "completed"
    },
    "tags": []
   },
   "outputs": [],
   "source": [
    "mapping_path = {os.path.basename(x): x for x in glob('../input/data/*/images/*.png')}\n",
    "\n",
    "df_bbox['path'] = df_bbox['Image Index'].map(mapping_path)"
   ]
  },
  {
   "cell_type": "markdown",
   "id": "7429b992",
   "metadata": {
    "papermill": {
     "duration": 0.008777,
     "end_time": "2024-08-15T09:23:11.992148",
     "exception": false,
     "start_time": "2024-08-15T09:23:11.983371",
     "status": "completed"
    },
    "tags": []
   },
   "source": [
    "### VinBigData"
   ]
  },
  {
   "cell_type": "code",
   "execution_count": 7,
   "id": "6d26f0a5",
   "metadata": {
    "execution": {
     "iopub.execute_input": "2024-08-15T09:23:12.012134Z",
     "iopub.status.busy": "2024-08-15T09:23:12.011027Z",
     "iopub.status.idle": "2024-08-15T09:23:12.353880Z",
     "shell.execute_reply": "2024-08-15T09:23:12.352612Z"
    },
    "papermill": {
     "duration": 0.356162,
     "end_time": "2024-08-15T09:23:12.356863",
     "exception": false,
     "start_time": "2024-08-15T09:23:12.000701",
     "status": "completed"
    },
    "tags": []
   },
   "outputs": [],
   "source": [
    "PATH = '/kaggle/input/vinbigdata-original-image-dataset/vinbigdata/'\n",
    "\n",
    "df_vin = pd.read_csv(PATH+'train.csv')\n",
    "df_vin = df_vin.sort_values(by='image_id').reset_index(drop=True)"
   ]
  },
  {
   "cell_type": "code",
   "execution_count": 8,
   "id": "44521f8f",
   "metadata": {
    "execution": {
     "iopub.execute_input": "2024-08-15T09:23:12.375530Z",
     "iopub.status.busy": "2024-08-15T09:23:12.375090Z",
     "iopub.status.idle": "2024-08-15T09:23:12.415656Z",
     "shell.execute_reply": "2024-08-15T09:23:12.414360Z"
    },
    "papermill": {
     "duration": 0.052943,
     "end_time": "2024-08-15T09:23:12.418360",
     "exception": false,
     "start_time": "2024-08-15T09:23:12.365417",
     "status": "completed"
    },
    "tags": []
   },
   "outputs": [
    {
     "name": "stdout",
     "output_type": "stream",
     "text": [
      "Shape of DataFrame:  (8182, 10)\n"
     ]
    },
    {
     "data": {
      "text/html": [
       "<div>\n",
       "<style scoped>\n",
       "    .dataframe tbody tr th:only-of-type {\n",
       "        vertical-align: middle;\n",
       "    }\n",
       "\n",
       "    .dataframe tbody tr th {\n",
       "        vertical-align: top;\n",
       "    }\n",
       "\n",
       "    .dataframe thead th {\n",
       "        text-align: right;\n",
       "    }\n",
       "</style>\n",
       "<table border=\"1\" class=\"dataframe\">\n",
       "  <thead>\n",
       "    <tr style=\"text-align: right;\">\n",
       "      <th></th>\n",
       "      <th>image_id</th>\n",
       "      <th>class_name</th>\n",
       "      <th>class_id</th>\n",
       "      <th>rad_id</th>\n",
       "      <th>x_min</th>\n",
       "      <th>y_min</th>\n",
       "      <th>x_max</th>\n",
       "      <th>y_max</th>\n",
       "      <th>width</th>\n",
       "      <th>height</th>\n",
       "    </tr>\n",
       "  </thead>\n",
       "  <tbody>\n",
       "    <tr>\n",
       "      <th>0</th>\n",
       "      <td>0007d316f756b3fa0baea2ff514ce945</td>\n",
       "      <td>Cardiomegaly</td>\n",
       "      <td>3</td>\n",
       "      <td>R10</td>\n",
       "      <td>902.0</td>\n",
       "      <td>1827.0</td>\n",
       "      <td>1829.0</td>\n",
       "      <td>2037.0</td>\n",
       "      <td>2304</td>\n",
       "      <td>2880</td>\n",
       "    </tr>\n",
       "    <tr>\n",
       "      <th>1</th>\n",
       "      <td>00150343289f317a0ad5629d5b7d9ef9</td>\n",
       "      <td>Effusion</td>\n",
       "      <td>10</td>\n",
       "      <td>R10</td>\n",
       "      <td>1876.0</td>\n",
       "      <td>1103.0</td>\n",
       "      <td>2239.0</td>\n",
       "      <td>1334.0</td>\n",
       "      <td>2525</td>\n",
       "      <td>2508</td>\n",
       "    </tr>\n",
       "    <tr>\n",
       "      <th>2</th>\n",
       "      <td>00150343289f317a0ad5629d5b7d9ef9</td>\n",
       "      <td>Effusion</td>\n",
       "      <td>10</td>\n",
       "      <td>R8</td>\n",
       "      <td>254.0</td>\n",
       "      <td>1261.0</td>\n",
       "      <td>402.0</td>\n",
       "      <td>1434.0</td>\n",
       "      <td>2525</td>\n",
       "      <td>2508</td>\n",
       "    </tr>\n",
       "    <tr>\n",
       "      <th>3</th>\n",
       "      <td>00150343289f317a0ad5629d5b7d9ef9</td>\n",
       "      <td>Effusion</td>\n",
       "      <td>10</td>\n",
       "      <td>R8</td>\n",
       "      <td>2054.0</td>\n",
       "      <td>1112.0</td>\n",
       "      <td>2282.0</td>\n",
       "      <td>1329.0</td>\n",
       "      <td>2525</td>\n",
       "      <td>2508</td>\n",
       "    </tr>\n",
       "    <tr>\n",
       "      <th>4</th>\n",
       "      <td>00150343289f317a0ad5629d5b7d9ef9</td>\n",
       "      <td>Cardiomegaly</td>\n",
       "      <td>3</td>\n",
       "      <td>R8</td>\n",
       "      <td>818.0</td>\n",
       "      <td>1053.0</td>\n",
       "      <td>1913.0</td>\n",
       "      <td>1340.0</td>\n",
       "      <td>2525</td>\n",
       "      <td>2508</td>\n",
       "    </tr>\n",
       "    <tr>\n",
       "      <th>...</th>\n",
       "      <td>...</td>\n",
       "      <td>...</td>\n",
       "      <td>...</td>\n",
       "      <td>...</td>\n",
       "      <td>...</td>\n",
       "      <td>...</td>\n",
       "      <td>...</td>\n",
       "      <td>...</td>\n",
       "      <td>...</td>\n",
       "      <td>...</td>\n",
       "    </tr>\n",
       "    <tr>\n",
       "      <th>8177</th>\n",
       "      <td>ffceb71a80efba3b83c88e11f4b9694b</td>\n",
       "      <td>Cardiomegaly</td>\n",
       "      <td>3</td>\n",
       "      <td>R11</td>\n",
       "      <td>570.0</td>\n",
       "      <td>1108.0</td>\n",
       "      <td>1973.0</td>\n",
       "      <td>2016.0</td>\n",
       "      <td>2109</td>\n",
       "      <td>2344</td>\n",
       "    </tr>\n",
       "    <tr>\n",
       "      <th>8178</th>\n",
       "      <td>ffceb71a80efba3b83c88e11f4b9694b</td>\n",
       "      <td>Cardiomegaly</td>\n",
       "      <td>3</td>\n",
       "      <td>R13</td>\n",
       "      <td>579.0</td>\n",
       "      <td>1074.0</td>\n",
       "      <td>1920.0</td>\n",
       "      <td>1771.0</td>\n",
       "      <td>2109</td>\n",
       "      <td>2344</td>\n",
       "    </tr>\n",
       "    <tr>\n",
       "      <th>8179</th>\n",
       "      <td>ffe6f9fe648a7ec29a50feb92d6c15a4</td>\n",
       "      <td>Cardiomegaly</td>\n",
       "      <td>3</td>\n",
       "      <td>R9</td>\n",
       "      <td>1144.0</td>\n",
       "      <td>1851.0</td>\n",
       "      <td>2297.0</td>\n",
       "      <td>2384.0</td>\n",
       "      <td>2685</td>\n",
       "      <td>2857</td>\n",
       "    </tr>\n",
       "    <tr>\n",
       "      <th>8180</th>\n",
       "      <td>ffe6f9fe648a7ec29a50feb92d6c15a4</td>\n",
       "      <td>Cardiomegaly</td>\n",
       "      <td>3</td>\n",
       "      <td>R8</td>\n",
       "      <td>1156.0</td>\n",
       "      <td>1789.0</td>\n",
       "      <td>2315.0</td>\n",
       "      <td>2360.0</td>\n",
       "      <td>2685</td>\n",
       "      <td>2857</td>\n",
       "    </tr>\n",
       "    <tr>\n",
       "      <th>8181</th>\n",
       "      <td>ffe6f9fe648a7ec29a50feb92d6c15a4</td>\n",
       "      <td>Cardiomegaly</td>\n",
       "      <td>3</td>\n",
       "      <td>R10</td>\n",
       "      <td>1134.0</td>\n",
       "      <td>1856.0</td>\n",
       "      <td>2297.0</td>\n",
       "      <td>2335.0</td>\n",
       "      <td>2685</td>\n",
       "      <td>2857</td>\n",
       "    </tr>\n",
       "  </tbody>\n",
       "</table>\n",
       "<p>8182 rows × 10 columns</p>\n",
       "</div>"
      ],
      "text/plain": [
       "                              image_id    class_name  class_id rad_id   x_min  \\\n",
       "0     0007d316f756b3fa0baea2ff514ce945  Cardiomegaly         3    R10   902.0   \n",
       "1     00150343289f317a0ad5629d5b7d9ef9      Effusion        10    R10  1876.0   \n",
       "2     00150343289f317a0ad5629d5b7d9ef9      Effusion        10     R8   254.0   \n",
       "3     00150343289f317a0ad5629d5b7d9ef9      Effusion        10     R8  2054.0   \n",
       "4     00150343289f317a0ad5629d5b7d9ef9  Cardiomegaly         3     R8   818.0   \n",
       "...                                ...           ...       ...    ...     ...   \n",
       "8177  ffceb71a80efba3b83c88e11f4b9694b  Cardiomegaly         3    R11   570.0   \n",
       "8178  ffceb71a80efba3b83c88e11f4b9694b  Cardiomegaly         3    R13   579.0   \n",
       "8179  ffe6f9fe648a7ec29a50feb92d6c15a4  Cardiomegaly         3     R9  1144.0   \n",
       "8180  ffe6f9fe648a7ec29a50feb92d6c15a4  Cardiomegaly         3     R8  1156.0   \n",
       "8181  ffe6f9fe648a7ec29a50feb92d6c15a4  Cardiomegaly         3    R10  1134.0   \n",
       "\n",
       "       y_min   x_max   y_max  width  height  \n",
       "0     1827.0  1829.0  2037.0   2304    2880  \n",
       "1     1103.0  2239.0  1334.0   2525    2508  \n",
       "2     1261.0   402.0  1434.0   2525    2508  \n",
       "3     1112.0  2282.0  1329.0   2525    2508  \n",
       "4     1053.0  1913.0  1340.0   2525    2508  \n",
       "...      ...     ...     ...    ...     ...  \n",
       "8177  1108.0  1973.0  2016.0   2109    2344  \n",
       "8178  1074.0  1920.0  1771.0   2109    2344  \n",
       "8179  1851.0  2297.0  2384.0   2685    2857  \n",
       "8180  1789.0  2315.0  2360.0   2685    2857  \n",
       "8181  1856.0  2297.0  2335.0   2685    2857  \n",
       "\n",
       "[8182 rows x 10 columns]"
      ]
     },
     "metadata": {},
     "output_type": "display_data"
    },
    {
     "name": "stdout",
     "output_type": "stream",
     "text": [
      "None\n"
     ]
    }
   ],
   "source": [
    "df_vin = df_vin[df_vin['class_name'].isin(['Atelectasis','Pleural effusion','Cardiomegaly'])]\n",
    "df_vin['class_name'] = df_vin['class_name'].replace('Pleural effusion', 'Effusion')\n",
    "df_vin = df_vin.reset_index(drop=True)\n",
    "print('Shape of DataFrame: ', df_vin.shape)\n",
    "print(display(df_vin))"
   ]
  },
  {
   "cell_type": "code",
   "execution_count": 9,
   "id": "6d431eb9",
   "metadata": {
    "execution": {
     "iopub.execute_input": "2024-08-15T09:23:12.438310Z",
     "iopub.status.busy": "2024-08-15T09:23:12.437867Z",
     "iopub.status.idle": "2024-08-15T09:23:12.849399Z",
     "shell.execute_reply": "2024-08-15T09:23:12.847899Z"
    },
    "papermill": {
     "duration": 0.424915,
     "end_time": "2024-08-15T09:23:12.852271",
     "exception": false,
     "start_time": "2024-08-15T09:23:12.427356",
     "status": "completed"
    },
    "tags": []
   },
   "outputs": [],
   "source": [
    "mapping_path = {os.path.basename(x).split('.')[0]: x for x in glob('../input/*/vinbigdata/train/*.jpg')}\n",
    "\n",
    "df_vin['path'] = df_vin['image_id'].map(mapping_path)"
   ]
  },
  {
   "cell_type": "code",
   "execution_count": 10,
   "id": "eb9706ae",
   "metadata": {
    "execution": {
     "iopub.execute_input": "2024-08-15T09:23:12.872174Z",
     "iopub.status.busy": "2024-08-15T09:23:12.871745Z",
     "iopub.status.idle": "2024-08-15T09:23:12.895782Z",
     "shell.execute_reply": "2024-08-15T09:23:12.894412Z"
    },
    "papermill": {
     "duration": 0.037583,
     "end_time": "2024-08-15T09:23:12.898906",
     "exception": false,
     "start_time": "2024-08-15T09:23:12.861323",
     "status": "completed"
    },
    "tags": []
   },
   "outputs": [],
   "source": [
    "df_vin = df_vin.groupby(['image_id','class_name']).agg('first').reset_index()"
   ]
  },
  {
   "cell_type": "code",
   "execution_count": 11,
   "id": "3666a5a6",
   "metadata": {
    "execution": {
     "iopub.execute_input": "2024-08-15T09:23:12.919187Z",
     "iopub.status.busy": "2024-08-15T09:23:12.918720Z",
     "iopub.status.idle": "2024-08-15T09:23:13.156295Z",
     "shell.execute_reply": "2024-08-15T09:23:13.154827Z"
    },
    "papermill": {
     "duration": 0.250999,
     "end_time": "2024-08-15T09:23:13.158941",
     "exception": false,
     "start_time": "2024-08-15T09:23:12.907942",
     "status": "completed"
    },
    "tags": []
   },
   "outputs": [
    {
     "data": {
      "image/png": "[encoded data removed]",
      "text/plain": [
       "<Figure size 1200x600 with 1 Axes>"
      ]
     },
     "metadata": {},
     "output_type": "display_data"
    }
   ],
   "source": [
    "plt.figure(figsize=(12,6))\n",
    "\n",
    "sns.countplot(x=df_vin['class_name'])\n",
    "\n",
    "plt.show()"
   ]
  },
  {
   "cell_type": "code",
   "execution_count": 12,
   "id": "d5c61620",
   "metadata": {
    "execution": {
     "iopub.execute_input": "2024-08-15T09:23:13.182286Z",
     "iopub.status.busy": "2024-08-15T09:23:13.181415Z",
     "iopub.status.idle": "2024-08-15T09:23:13.193107Z",
     "shell.execute_reply": "2024-08-15T09:23:13.191963Z"
    },
    "papermill": {
     "duration": 0.026315,
     "end_time": "2024-08-15T09:23:13.195988",
     "exception": false,
     "start_time": "2024-08-15T09:23:13.169673",
     "status": "completed"
    },
    "tags": []
   },
   "outputs": [],
   "source": [
    "df_vin['h'] = df_vin['y_max'] - df_vin['y_min']\n",
    "df_vin['w'] = df_vin['x_max'] - df_vin['x_min']\n",
    "\n",
    "df_vin = df_vin.rename(columns={'image_id':'Image Index','class_name':'Finding Label','x_min':'x','y_min':'y'})\n",
    "df_vin = df_vin.drop(columns=['class_id','rad_id', 'x_max','y_max'])"
   ]
  },
  {
   "cell_type": "code",
   "execution_count": 13,
   "id": "7c0e7ec1",
   "metadata": {
    "execution": {
     "iopub.execute_input": "2024-08-15T09:23:13.217354Z",
     "iopub.status.busy": "2024-08-15T09:23:13.216058Z",
     "iopub.status.idle": "2024-08-15T09:23:13.233518Z",
     "shell.execute_reply": "2024-08-15T09:23:13.232081Z"
    },
    "papermill": {
     "duration": 0.031064,
     "end_time": "2024-08-15T09:23:13.236460",
     "exception": false,
     "start_time": "2024-08-15T09:23:13.205396",
     "status": "completed"
    },
    "tags": []
   },
   "outputs": [],
   "source": [
    "vin_1 = df_vin[df_vin['Finding Label'] == 'Effusion'].sample(347, random_state=42)\n",
    "vin_2 = df_vin[df_vin['Finding Label'] == 'Cardiomegaly'].sample(354, random_state=42)\n",
    "vin_3 = df_vin[df_vin['Finding Label'] == 'Atelectasis']\n",
    "\n",
    "df_vin = pd.concat([vin_1,vin_2,vin_3], axis=0).reset_index(drop=True)"
   ]
  },
  {
   "cell_type": "code",
   "execution_count": 14,
   "id": "d4cc698b",
   "metadata": {
    "execution": {
     "iopub.execute_input": "2024-08-15T09:23:13.257807Z",
     "iopub.status.busy": "2024-08-15T09:23:13.257395Z",
     "iopub.status.idle": "2024-08-15T09:23:13.266799Z",
     "shell.execute_reply": "2024-08-15T09:23:13.265613Z"
    },
    "papermill": {
     "duration": 0.023467,
     "end_time": "2024-08-15T09:23:13.269533",
     "exception": false,
     "start_time": "2024-08-15T09:23:13.246066",
     "status": "completed"
    },
    "tags": []
   },
   "outputs": [],
   "source": [
    "df = pd.concat([df_bbox, df_vin], axis=0).reset_index(drop=True)"
   ]
  },
  {
   "cell_type": "code",
   "execution_count": 15,
   "id": "aed34514",
   "metadata": {
    "execution": {
     "iopub.execute_input": "2024-08-15T09:23:13.290406Z",
     "iopub.status.busy": "2024-08-15T09:23:13.289982Z",
     "iopub.status.idle": "2024-08-15T09:23:13.299837Z",
     "shell.execute_reply": "2024-08-15T09:23:13.298766Z"
    },
    "papermill": {
     "duration": 0.023813,
     "end_time": "2024-08-15T09:23:13.302692",
     "exception": false,
     "start_time": "2024-08-15T09:23:13.278879",
     "status": "completed"
    },
    "tags": []
   },
   "outputs": [
    {
     "data": {
      "text/plain": [
       "Finding Label\n",
       "Cardiomegaly    500\n",
       "Effusion        500\n",
       "Atelectasis     366\n",
       "Name: count, dtype: int64"
      ]
     },
     "execution_count": 15,
     "metadata": {},
     "output_type": "execute_result"
    }
   ],
   "source": [
    "df['Finding Label'].value_counts()"
   ]
  },
  {
   "cell_type": "code",
   "execution_count": 16,
   "id": "deed77f1",
   "metadata": {
    "execution": {
     "iopub.execute_input": "2024-08-15T09:23:13.323607Z",
     "iopub.status.busy": "2024-08-15T09:23:13.323170Z",
     "iopub.status.idle": "2024-08-15T09:23:13.328758Z",
     "shell.execute_reply": "2024-08-15T09:23:13.327516Z"
    },
    "papermill": {
     "duration": 0.019104,
     "end_time": "2024-08-15T09:23:13.331396",
     "exception": false,
     "start_time": "2024-08-15T09:23:13.312292",
     "status": "completed"
    },
    "tags": []
   },
   "outputs": [],
   "source": [
    "import shutil"
   ]
  },
  {
   "cell_type": "code",
   "execution_count": 17,
   "id": "fbd4cd9a",
   "metadata": {
    "execution": {
     "iopub.execute_input": "2024-08-15T09:23:13.353024Z",
     "iopub.status.busy": "2024-08-15T09:23:13.352062Z",
     "iopub.status.idle": "2024-08-15T09:23:13.381100Z",
     "shell.execute_reply": "2024-08-15T09:23:13.380018Z"
    },
    "papermill": {
     "duration": 0.042748,
     "end_time": "2024-08-15T09:23:13.384033",
     "exception": false,
     "start_time": "2024-08-15T09:23:13.341285",
     "status": "completed"
    },
    "tags": []
   },
   "outputs": [],
   "source": [
    "df.to_csv('metadata.csv', index=False)"
   ]
  },
  {
   "cell_type": "code",
   "execution_count": 18,
   "id": "78f0ebf1",
   "metadata": {
    "execution": {
     "iopub.execute_input": "2024-08-15T09:23:13.406037Z",
     "iopub.status.busy": "2024-08-15T09:23:13.405553Z",
     "iopub.status.idle": "2024-08-15T09:23:13.413173Z",
     "shell.execute_reply": "2024-08-15T09:23:13.412063Z"
    },
    "papermill": {
     "duration": 0.021845,
     "end_time": "2024-08-15T09:23:13.415832",
     "exception": false,
     "start_time": "2024-08-15T09:23:13.393987",
     "status": "completed"
    },
    "tags": []
   },
   "outputs": [],
   "source": [
    "df = df.drop_duplicates(subset=['Image Index'])"
   ]
  },
  {
   "cell_type": "code",
   "execution_count": 19,
   "id": "e96113e1",
   "metadata": {
    "execution": {
     "iopub.execute_input": "2024-08-15T09:23:13.436701Z",
     "iopub.status.busy": "2024-08-15T09:23:13.436310Z",
     "iopub.status.idle": "2024-08-15T09:23:46.585586Z",
     "shell.execute_reply": "2024-08-15T09:23:46.584131Z"
    },
    "papermill": {
     "duration": 33.163134,
     "end_time": "2024-08-15T09:23:46.588567",
     "exception": false,
     "start_time": "2024-08-15T09:23:13.425433",
     "status": "completed"
    },
    "tags": []
   },
   "outputs": [
    {
     "name": "stderr",
     "output_type": "stream",
     "text": [
      "100%|██████████| 328/328 [00:07<00:00, 44.17it/s]\n",
      "100%|██████████| 488/488 [00:13<00:00, 36.94it/s]\n",
      "100%|██████████| 485/485 [00:12<00:00, 38.86it/s]\n"
     ]
    }
   ],
   "source": [
    "PATH = '/kaggle/working/lung_diseases/'\n",
    "\n",
    "for label in df['Finding Label'].unique():\n",
    "    os.makedirs(os.path.join(PATH,label), exist_ok=True)\n",
    "    \n",
    "    tmp = df[df['Finding Label'] == label]\n",
    "    tmp = tmp.drop_duplicates(subset=['Image Index']).reset_index(drop=True)\n",
    "    \n",
    "    for file in tqdm(tmp['path'].unique()):\n",
    "        shutil.copy(file, os.path.join(PATH,label))"
   ]
  },
  {
   "cell_type": "code",
   "execution_count": null,
   "id": "e8704b6f",
   "metadata": {
    "papermill": {
     "duration": 0.034461,
     "end_time": "2024-08-15T09:23:46.658438",
     "exception": false,
     "start_time": "2024-08-15T09:23:46.623977",
     "status": "completed"
    },
    "tags": []
   },
   "outputs": [],
   "source": []
  }
 ],
 "metadata": {
  "kaggle": {
   "accelerator": "none",
   "dataSources": [
    {
     "datasetId": 5839,
     "sourceId": 18613,
     "sourceType": "datasetVersion"
    },
    {
     "datasetId": 1070245,
     "sourceId": 1800825,
     "sourceType": "datasetVersion"
    }
   ],
   "dockerImageVersionId": 30746,
   "isGpuEnabled": false,
   "isInternetEnabled": true,
   "language": "python",
   "sourceType": "notebook"
  },
  "kernelspec": {
   "display_name": "Python 3",
   "language": "python",
   "name": "python3"
  },
  "language_info": {
   "codemirror_mode": {
    "name": "ipython",
    "version": 3
   },
   "file_extension": ".py",
   "mimetype": "text/x-python",
   "name": "python",
   "nbconvert_exporter": "python",
   "pygments_lexer": "ipython3",
   "version": "3.10.13"
  },
  "papermill": {
   "default_parameters": {},
   "duration": 45.564229,
   "end_time": "2024-08-15T09:23:47.315692",
   "environment_variables": {},
   "exception": null,
   "input_path": "__notebook__.ipynb",
   "output_path": "__notebook__.ipynb",
   "parameters": {},
   "start_time": "2024-08-15T09:23:01.751463",
   "version": "2.5.0"
  }
 },
 "nbformat": 4,
 "nbformat_minor": 5
}
